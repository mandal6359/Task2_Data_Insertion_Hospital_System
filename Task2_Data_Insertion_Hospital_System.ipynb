{
 "cells": [
  {
   "cell_type": "markdown",
   "metadata": {},
   "source": [
    "# 💉 Hospital Management System – Task 2\n",
    "### SQL Developer Internship | Data Insertion and Null Handling"
   ]
  },
  {
   "cell_type": "markdown",
   "metadata": {},
   "source": [
    "## 📌 Objective:\n",
    "Practice inserting, updating, and deleting data while handling NULL values."
   ]
  },
  {
   "cell_type": "code",
   "execution_count": 1,
   "metadata": {},
   "outputs": [
    {
     "ename": "SyntaxError",
     "evalue": "invalid syntax (2613708532.py, line 1)",
     "output_type": "error",
     "traceback": [
      "\u001b[1;36m  Cell \u001b[1;32mIn[1], line 1\u001b[1;36m\u001b[0m\n\u001b[1;33m    -- Create tables\u001b[0m\n\u001b[1;37m              ^\u001b[0m\n\u001b[1;31mSyntaxError\u001b[0m\u001b[1;31m:\u001b[0m invalid syntax\n"
     ]
    }
   ],
   "source": [
    "-- Create tables\n",
    "CREATE TABLE Patients (\n",
    "    patient_id INTEGER PRIMARY KEY,\n",
    "    name TEXT NOT NULL,\n",
    "    age INTEGER,\n",
    "    gender TEXT,\n",
    "    address TEXT DEFAULT 'Not Provided'\n",
    ");\n",
    "\n",
    "CREATE TABLE Doctors (\n",
    "    doctor_id INTEGER PRIMARY KEY,\n",
    "    name TEXT NOT NULL,\n",
    "    specialty TEXT\n",
    ");\n",
    "\n",
    "CREATE TABLE Appointments (\n",
    "    appointment_id INTEGER PRIMARY KEY,\n",
    "    patient_id INTEGER,\n",
    "    doctor_id INTEGER,\n",
    "    appointment_date TEXT,\n",
    "    notes TEXT DEFAULT NULL,\n",
    "    FOREIGN KEY(patient_id) REFERENCES Patients(patient_id) ON DELETE CASCADE,\n",
    "    FOREIGN KEY(doctor_id) REFERENCES Doctors(doctor_id) ON DELETE CASCADE\n",
    ");"
   ]
  },
  {
   "cell_type": "markdown",
   "metadata": {},
   "source": [
    "## 🚀 Data Insertion:"
   ]
  },
  {
   "cell_type": "code",
   "execution_count": null,
   "metadata": {},
   "outputs": [],
   "source": [
    "-- Insert into Patients\n",
    "INSERT INTO Patients (patient_id, name, age, gender) VALUES (1, 'John Doe', 45, 'Male');\n",
    "INSERT INTO Patients (patient_id, name, age, gender, address) VALUES (2, 'Jane Smith', 30, 'Female', '123 Main St');\n",
    "INSERT INTO Patients (patient_id, name, age, gender) VALUES (3, 'Alice', 25, 'Female');\n",
    "\n",
    "-- Insert into Doctors\n",
    "INSERT INTO Doctors (doctor_id, name, specialty) VALUES (1, 'Dr. Adams', 'Cardiology');\n",
    "INSERT INTO Doctors (doctor_id, name, specialty) VALUES (2, 'Dr. Brown', 'Neurology');\n",
    "\n",
    "-- Insert into Appointments\n",
    "INSERT INTO Appointments (appointment_id, patient_id, doctor_id, appointment_date)\n",
    "VALUES (1, 1, 1, '2025-08-01');\n",
    "INSERT INTO Appointments (appointment_id, patient_id, doctor_id, appointment_date, notes)\n",
    "VALUES (2, 2, 2, '2025-08-03', 'Follow-up visit');\n",
    "INSERT INTO Appointments (appointment_id, patient_id, doctor_id, appointment_date)\n",
    "VALUES (3, 3, 1, '2025-08-05');"
   ]
  },
  {
   "cell_type": "markdown",
   "metadata": {},
   "source": [
    "## 🔁 Update Data:"
   ]
  },
  {
   "cell_type": "code",
   "execution_count": null,
   "metadata": {},
   "outputs": [],
   "source": [
    "-- Update patient address\n",
    "UPDATE Patients SET address = '456 Lake View' WHERE patient_id = 1;\n",
    "-- Update appointment note\n",
    "UPDATE Appointments SET notes = 'Bring medical reports' WHERE appointment_id = 3;"
   ]
  },
  {
   "cell_type": "markdown",
   "metadata": {},
   "source": [
    "## ❌ Delete Data:"
   ]
  },
  {
   "cell_type": "code",
   "execution_count": null,
   "metadata": {},
   "outputs": [],
   "source": [
    "-- Delete a patient (will cascade delete appointments)\n",
    "DELETE FROM Patients WHERE patient_id = 1;"
   ]
  },
  {
   "cell_type": "markdown",
   "metadata": {},
   "source": [
    "## ✅ NULL and DEFAULT Handling:\n",
    "- Use `NULL` to represent missing or unknown values.\n",
    "- Use `DEFAULT` to auto-fill columns when no value is provided.\n",
    "- `IS NULL` can be used to filter or identify such values.\n",
    "- `ON DELETE CASCADE` deletes related child rows."
   ]
  }
 ],
 "metadata": {
  "kernelspec": {
   "display_name": "Python [conda env:base] *",
   "language": "python",
   "name": "conda-base-py"
  },
  "language_info": {
   "codemirror_mode": {
    "name": "ipython",
    "version": 3
   },
   "file_extension": ".py",
   "mimetype": "text/x-python",
   "name": "python",
   "nbconvert_exporter": "python",
   "pygments_lexer": "ipython3",
   "version": "3.12.4"
  }
 },
 "nbformat": 4,
 "nbformat_minor": 4
}
